{
 "cells": [
  {
   "cell_type": "code",
   "execution_count": 5,
   "metadata": {},
   "outputs": [],
   "source": [
    "import pybaseball as pyb\n",
    "import pandas as pd\n",
    "import numpy as np\n",
    "import matplotlib.pyplot as plt"
   ]
  },
  {
   "cell_type": "code",
   "execution_count": 6,
   "metadata": {},
   "outputs": [
    {
     "name": "stdout",
     "output_type": "stream",
     "text": [
      "This is a large query, it may take a moment to complete\n",
      "Completed sub-query from 2022-05-01 to 2022-05-06\n",
      "Completed sub-query from 2022-05-07 to 2022-05-12\n",
      "Completed sub-query from 2022-05-13 to 2022-05-18\n",
      "Completed sub-query from 2022-05-19 to 2022-05-24\n",
      "Completed sub-query from 2022-05-25 to 2022-05-30\n",
      "Completed sub-query from 2022-05-31 to 2022-06-05\n",
      "Completed sub-query from 2022-06-06 to 2022-06-11\n",
      "Completed sub-query from 2022-06-12 to 2022-06-17\n",
      "Completed sub-query from 2022-06-18 to 2022-06-23\n",
      "Completed sub-query from 2022-06-24 to 2022-06-29\n",
      "Completed sub-query from 2022-06-30 to 2022-06-30\n",
      "(241520, 93)\n"
     ]
    }
   ],
   "source": [
    "data = pyb.statcast('2022-05-01', '2022-06-30')\n",
    "print(data.shape)"
   ]
  },
  {
   "cell_type": "code",
   "execution_count": 10,
   "metadata": {},
   "outputs": [
    {
     "data": {
      "text/plain": [
       "(42579, 93)"
      ]
     },
     "execution_count": 10,
     "metadata": {},
     "output_type": "execute_result"
    }
   ],
   "source": [
    "data2 = data.dropna(subset=['launch_angle', 'launch_speed', 'estimated_ba_using_speedangle'])\n",
    "data2.shape"
   ]
  },
  {
   "cell_type": "code",
   "execution_count": null,
   "metadata": {},
   "outputs": [],
   "source": []
  }
 ],
 "metadata": {
  "kernelspec": {
   "display_name": "Python 3",
   "language": "python",
   "name": "python3"
  },
  "language_info": {
   "codemirror_mode": {
    "name": "ipython",
    "version": 3
   },
   "file_extension": ".py",
   "mimetype": "text/x-python",
   "name": "python",
   "nbconvert_exporter": "python",
   "pygments_lexer": "ipython3",
   "version": "3.9.5"
  },
  "orig_nbformat": 4,
  "vscode": {
   "interpreter": {
    "hash": "b0fa6594d8f4cbf19f97940f81e996739fb7646882a419484c72d19e05852a7e"
   }
  }
 },
 "nbformat": 4,
 "nbformat_minor": 2
}
